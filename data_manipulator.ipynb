{
 "cells": [
  {
   "cell_type": "code",
   "execution_count": 2,
   "metadata": {},
   "outputs": [],
   "source": [
    "import pandas as pd\n",
    "import numpy as np"
   ]
  },
  {
   "cell_type": "code",
   "execution_count": 13,
   "metadata": {},
   "outputs": [],
   "source": [
    "france2020= pd.read_excel('data/xls/PLANOWANIE 2020.xlsx', sheet_name=0)\n",
    "france2020 = france2020.dropna(subset=['DATE'])"
   ]
  },
  {
   "cell_type": "code",
   "execution_count": 16,
   "metadata": {},
   "outputs": [],
   "source": [
    "france2020 = france2020[['LS','CWM', 'MAX TONNAGE', 'VO','CARGO','EXPORTER', 'DATE','PLACE','TIME', 'CONFIRMED','INSPECTOR']]"
   ]
  },
  {
   "cell_type": "code",
   "execution_count": 17,
   "metadata": {},
   "outputs": [
    {
     "data": {
      "text/html": [
       "<div>\n",
       "<style scoped>\n",
       "    .dataframe tbody tr th:only-of-type {\n",
       "        vertical-align: middle;\n",
       "    }\n",
       "\n",
       "    .dataframe tbody tr th {\n",
       "        vertical-align: top;\n",
       "    }\n",
       "\n",
       "    .dataframe thead th {\n",
       "        text-align: right;\n",
       "    }\n",
       "</style>\n",
       "<table border=\"1\" class=\"dataframe\">\n",
       "  <thead>\n",
       "    <tr style=\"text-align: right;\">\n",
       "      <th></th>\n",
       "      <th>LS</th>\n",
       "      <th>CWM</th>\n",
       "      <th>MAX TONNAGE</th>\n",
       "      <th>VO</th>\n",
       "      <th>CARGO</th>\n",
       "      <th>EXPORTER</th>\n",
       "      <th>DATE</th>\n",
       "      <th>PLACE</th>\n",
       "      <th>TIME</th>\n",
       "      <th>CONFIRMED</th>\n",
       "      <th>INSPECTOR</th>\n",
       "    </tr>\n",
       "  </thead>\n",
       "  <tbody>\n",
       "    <tr>\n",
       "      <th>0</th>\n",
       "      <td>A0520PL1300002</td>\n",
       "      <td>26370/8010</td>\n",
       "      <td>NaN</td>\n",
       "      <td>X.13.057681</td>\n",
       "      <td>5 x PLASTIC SCRAP LDPE FILM</td>\n",
       "      <td>HERMES</td>\n",
       "      <td>10.01.2020</td>\n",
       "      <td>Ul. Okrężna 8, Gliwice, Poland</td>\n",
       "      <td>NaN</td>\n",
       "      <td>Yes</td>\n",
       "      <td>Dominik</td>\n",
       "    </tr>\n",
       "    <tr>\n",
       "      <th>3</th>\n",
       "      <td>A0520PL1300003</td>\n",
       "      <td>26233/8010</td>\n",
       "      <td>NaN</td>\n",
       "      <td>X.13.057220</td>\n",
       "      <td>5 x PLASTIC SCRAP LDPE FILM</td>\n",
       "      <td>HERMES</td>\n",
       "      <td>2020-01-20 00:00:00</td>\n",
       "      <td>Ul. Okrężna 8, Gliwice, Poland</td>\n",
       "      <td>NaN</td>\n",
       "      <td>Yes</td>\n",
       "      <td>Suchorowscy</td>\n",
       "    </tr>\n",
       "    <tr>\n",
       "      <th>6</th>\n",
       "      <td>A0520PL1300004</td>\n",
       "      <td>26370/8010</td>\n",
       "      <td>NaN</td>\n",
       "      <td>X.13.057681</td>\n",
       "      <td>5 x PLASTIC SCRAP LDPE FILM</td>\n",
       "      <td>HERMES</td>\n",
       "      <td>2020-01-21 00:00:00</td>\n",
       "      <td>Ul. Okrężna 8, Gliwice, Poland</td>\n",
       "      <td>NaN</td>\n",
       "      <td>Yes</td>\n",
       "      <td>Suchorowscy</td>\n",
       "    </tr>\n",
       "    <tr>\n",
       "      <th>9</th>\n",
       "      <td>A0520PL1300005</td>\n",
       "      <td>26075/8010</td>\n",
       "      <td>NaN</td>\n",
       "      <td>X.13.056603</td>\n",
       "      <td>3 x PLASTIC SCRAP ACRYLIC</td>\n",
       "      <td>TONGLI</td>\n",
       "      <td>2020-01-21 00:00:00</td>\n",
       "      <td>Brzezinka, ul. Czarna 6</td>\n",
       "      <td>NaN</td>\n",
       "      <td>Yes</td>\n",
       "      <td>Suchorowscy</td>\n",
       "    </tr>\n",
       "    <tr>\n",
       "      <th>11</th>\n",
       "      <td>A0520PL1300006</td>\n",
       "      <td>26423/8010</td>\n",
       "      <td>400MT</td>\n",
       "      <td>X.13.057888</td>\n",
       "      <td>5 x PLASTIC SCRAP LDPE FILM</td>\n",
       "      <td>HERMES</td>\n",
       "      <td>2020-01-27 00:00:00</td>\n",
       "      <td>Ul. Przemysłowa 3, 86-010 Koronowo, Poland</td>\n",
       "      <td>NaN</td>\n",
       "      <td>Yes</td>\n",
       "      <td>Piotr Bewicz</td>\n",
       "    </tr>\n",
       "  </tbody>\n",
       "</table>\n",
       "</div>"
      ],
      "text/plain": [
       "                LS         CWM MAX TONNAGE           VO  \\\n",
       "0   A0520PL1300002  26370/8010         NaN  X.13.057681   \n",
       "3   A0520PL1300003  26233/8010         NaN  X.13.057220   \n",
       "6   A0520PL1300004  26370/8010         NaN  X.13.057681   \n",
       "9   A0520PL1300005  26075/8010         NaN  X.13.056603   \n",
       "11  A0520PL1300006  26423/8010       400MT  X.13.057888   \n",
       "\n",
       "                          CARGO EXPORTER                 DATE  \\\n",
       "0   5 x PLASTIC SCRAP LDPE FILM   HERMES           10.01.2020   \n",
       "3   5 x PLASTIC SCRAP LDPE FILM   HERMES  2020-01-20 00:00:00   \n",
       "6   5 x PLASTIC SCRAP LDPE FILM   HERMES  2020-01-21 00:00:00   \n",
       "9     3 x PLASTIC SCRAP ACRYLIC   TONGLI  2020-01-21 00:00:00   \n",
       "11  5 x PLASTIC SCRAP LDPE FILM   HERMES  2020-01-27 00:00:00   \n",
       "\n",
       "                                         PLACE TIME CONFIRMED     INSPECTOR  \n",
       "0               Ul. Okrężna 8, Gliwice, Poland  NaN       Yes       Dominik  \n",
       "3               Ul. Okrężna 8, Gliwice, Poland  NaN       Yes   Suchorowscy  \n",
       "6               Ul. Okrężna 8, Gliwice, Poland  NaN       Yes   Suchorowscy  \n",
       "9                      Brzezinka, ul. Czarna 6  NaN       Yes   Suchorowscy  \n",
       "11  Ul. Przemysłowa 3, 86-010 Koronowo, Poland  NaN       Yes  Piotr Bewicz  "
      ]
     },
     "execution_count": 17,
     "metadata": {},
     "output_type": "execute_result"
    }
   ],
   "source": [
    "france2020.head()"
   ]
  },
  {
   "cell_type": "code",
   "execution_count": null,
   "metadata": {},
   "outputs": [],
   "source": []
  }
 ],
 "metadata": {
  "kernelspec": {
   "display_name": "Python 3.10.6 64-bit",
   "language": "python",
   "name": "python3"
  },
  "language_info": {
   "codemirror_mode": {
    "name": "ipython",
    "version": 3
   },
   "file_extension": ".py",
   "mimetype": "text/x-python",
   "name": "python",
   "nbconvert_exporter": "python",
   "pygments_lexer": "ipython3",
   "version": "3.10.6"
  },
  "orig_nbformat": 4,
  "vscode": {
   "interpreter": {
    "hash": "916dbcbb3f70747c44a77c7bcd40155683ae19c65e1c03b4aa3499c5328201f1"
   }
  }
 },
 "nbformat": 4,
 "nbformat_minor": 2
}
